{
 "cells": [
  {
   "cell_type": "markdown",
   "metadata": {},
   "source": [
    "# 简单线性回归（最小二乘法）"
   ]
  },
  {
   "cell_type": "markdown",
   "metadata": {},
   "source": [
    "### 0.引入依赖"
   ]
  },
  {
   "cell_type": "code",
   "execution_count": 5,
   "metadata": {
    "collapsed": true
   },
   "outputs": [],
   "source": [
    "import numpy as np\n",
    "import matplotlib.pyplot as plt"
   ]
  },
  {
   "cell_type": "markdown",
   "metadata": {},
   "source": [
    "### 1.导入数据（data.csv）"
   ]
  },
  {
   "cell_type": "code",
   "execution_count": null,
   "metadata": {
    "collapsed": true
   },
   "outputs": [],
   "source": [
    "points = np.genfromtxt(\"data.csv\", delimiter = ',')\n",
    "\n",
    "x = points[:, 0] #取第一列\n",
    "y = points[:, 1] #取第二列\n",
    "\n",
    "plt.scatter(x, y) #散点图\n",
    "plt.show()\n",
    "\n",
    "plt.plot(x, y, c = 'r')#红色的直线"
   ]
  },
  {
   "cell_type": "markdown",
   "metadata": {},
   "source": [
    "### 2.定义损失函数"
   ]
  },
  {
   "cell_type": "code",
   "execution_count": 6,
   "metadata": {
    "collapsed": true
   },
   "outputs": [],
   "source": [
    "# 损失函数是系数的函数，另外还要传入数据的x, y\n",
    "def compute_cost(w, b, points):\n",
    "    total_cost = 0\n",
    "    M = len(points)\n",
    "    \n",
    "    for i in range(M):\n",
    "        x = ponits[i, 0]\n",
    "        y = points[i, 1]\n",
    "        total_cost += (y - w * x - b) ** 2\n",
    "        \n",
    "    return total_cost/M"
   ]
  },
  {
   "cell_type": "markdown",
   "metadata": {},
   "source": [
    "### 3.定义算法拟合函数"
   ]
  },
  {
   "cell_type": "code",
   "execution_count": null,
   "metadata": {
    "collapsed": true
   },
   "outputs": [],
   "source": [
    "def average(data):\n",
    "    sum = 0\n",
    "    num = len(data)\n",
    "    for i in range(num):\n",
    "        sum += data[i]\n",
    "    return sum/num\n",
    "\n",
    "def fit(points):\n",
    "    M = len(points)\n",
    "    x_bar = average(points[:, 0])\n",
    "    \n",
    "    sum_yx = 0\n",
    "    sum_x2 = 0\n",
    "    sum_delta = 0\n",
    "    \n",
    "    for i in range(M):\n",
    "        x = ponits[i, 0]\n",
    "        y = points[i, 1]\n",
    "        sum_yx += y * (x - x_bar)\n",
    "        sum_x2 += x ** 2\n",
    "        \n",
    "    w = sum_yx/(sum_x2 - M * x_bar * x_bar)\n",
    "    \n",
    "    for i in range(M):\n",
    "        x = ponits[i, 0]\n",
    "        y = points[i, 1]\n",
    "        sum_delta += (y - w * x)\n",
    "    \n",
    "    b = sum_delta / M\n",
    "    \n",
    "    return w, b"
   ]
  },
  {
   "cell_type": "markdown",
   "metadata": {},
   "source": [
    "### 4.测试"
   ]
  },
  {
   "cell_type": "code",
   "execution_count": null,
   "metadata": {
    "collapsed": true
   },
   "outputs": [],
   "source": [
    "w, b = fit(points)"
   ]
  }
 ],
 "metadata": {
  "kernelspec": {
   "display_name": "Python 3",
   "language": "python",
   "name": "python3"
  },
  "language_info": {
   "codemirror_mode": {
    "name": "ipython",
    "version": 3
   },
   "file_extension": ".py",
   "mimetype": "text/x-python",
   "name": "python",
   "nbconvert_exporter": "python",
   "pygments_lexer": "ipython3",
   "version": "3.6.1"
  }
 },
 "nbformat": 4,
 "nbformat_minor": 2
}
