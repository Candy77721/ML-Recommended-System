{
 "cells": [
  {
   "cell_type": "markdown",
   "metadata": {},
   "source": [
    "# K means聚类"
   ]
  },
  {
   "cell_type": "markdown",
   "metadata": {},
   "source": [
    "### 0.引入依赖"
   ]
  },
  {
   "cell_type": "code",
   "execution_count": 16,
   "metadata": {
    "collapsed": true
   },
   "outputs": [],
   "source": [
    "import numpy as np\n",
    "import matplotlib.pyplot as plt\n",
    "\n",
    "#从sklearn中直接生成聚类数据\n",
    "from sklearn.datasets.samples_generator import make_blobs"
   ]
  },
  {
   "cell_type": "markdown",
   "metadata": {},
   "source": [
    "### 1.加载数据"
   ]
  },
  {
   "cell_type": "code",
   "execution_count": 17,
   "metadata": {
    "collapsed": true
   },
   "outputs": [],
   "source": [
    "x, y = make_blobs( n_samples = 100, centers = 6, random_state = 1234, cluster_std = 0.5 )\n",
    "\n",
    "#plt.figure(figsize = (12, 12))\n",
    "#plt.scatter( x[:, 0], x[:, 1], c = y) # c = y 按y分布颜色\n",
    "#plt.show()"
   ]
  },
  {
   "cell_type": "markdown",
   "metadata": {},
   "source": [
    "### 2.算法实现"
   ]
  },
  {
   "cell_type": "code",
   "execution_count": 20,
   "metadata": {
    "collapsed": true
   },
   "outputs": [],
   "source": [
    "#引入scipy中的距离函数，默认欧氏距离\n",
    "from scipy.spatial.distance import cdist\n",
    "\n",
    "class K_means(object):\n",
    "    #初始化 参数， 迭代次数，初始质心\n",
    "    def __init__(self, n_clusters = 6, max_iter = 300, centroids = []):\n",
    "        self.n_clusters = n_clusters\n",
    "        self.max_iter = max_iter\n",
    "        self.centroids = np.array( centroids, dtype = np.float )\n",
    "        \n",
    "    #训练模型，K_means聚类过程，传入原始数据\n",
    "    def fit(self, data):\n",
    "        #假如没有初始化质心，就随机选取data中的点作为初始质心\n",
    "        if (self.centroids.shape == (0, )):\n",
    "            #从data中随机生成0到data行数的6个整数，作为索引值\n",
    "            self.centroids = data[ np.random.randint( 0, data.shape[0], self.n_clusters ), :]\n",
    "        \n",
    "        for i in range(self.max_iter):\n",
    "            # 1.计算距离矩阵,得到的是一个100*6的矩阵\n",
    "            distances = cdist(data, self.centroids)\n",
    "            \n",
    "            # 2.按照距离由近到远排序，选取最近的质心点的类别，作为当前点的分类\n",
    "            c_ind = np.argmin( distances, axis = 1)\n",
    "            \n",
    "            # 3. 对每一类数据进行均值计算，更新质心点的坐标\n",
    "            for i in range(self.n_clusters):\n",
    "                # 排除掉没有出现在c_ind里的类别\n",
    "                if i in c_ind:\n",
    "                    # 选出所有类别是i的点，取data里面坐标的均值，更新第i个质心\n",
    "                    self.centroids[i] = np.mean( data[c_ind == i], axis = 0 )\n",
    "        \n",
    "    #实现预测方法\n",
    "    def predict(self, samples):\n",
    "        # 跟上面一样，先计算距离矩阵，然后选取距离最近的那个质心的类别\n",
    "        distances = cdist(samples, self.centroids)\n",
    "        c_ind = np.argmin(distances, axis = 1)\n",
    "        \n",
    "        return c_ind"
   ]
  },
  {
   "cell_type": "markdown",
   "metadata": {},
   "source": [
    "### 3.测试"
   ]
  },
  {
   "cell_type": "code",
   "execution_count": 21,
   "metadata": {
    "collapsed": true
   },
   "outputs": [],
   "source": [
    "def plotKMeans(x, y, centroids, subplot, title):\n",
    "    plt.subplot(subplot)\n",
    "    plt.scatter(x[:,0], x[:,1], c = 'r')\n",
    "    \n",
    "    #画出质心点\n",
    "    plt.scatter(centroids[:, 0], centroids[:, 1], c = np.array(range(6)), s = 100)\n",
    "    plt.title(title)\n",
    "    plt.show()"
   ]
  },
  {
   "cell_type": "code",
   "execution_count": 24,
   "metadata": {},
   "outputs": [
    {
     "data": {
      "image/png": "[encoded data removed]",
      "text/plain": [
       "<matplotlib.figure.Figure at 0x11657c18>"
      ]
     },
     "metadata": {},
     "output_type": "display_data"
    },
    {
     "data": {
      "image/png": "[encoded data removed]",
      "text/plain": [
       "<matplotlib.figure.Figure at 0x4b08908>"
      ]
     },
     "metadata": {},
     "output_type": "display_data"
    },
    {
     "data": {
      "image/png": "[encoded data removed]",
      "text/plain": [
       "<matplotlib.figure.Figure at 0x1179fba8>"
      ]
     },
     "metadata": {},
     "output_type": "display_data"
    },
    {
     "name": "stdout",
     "output_type": "stream",
     "text": [
      "[1 5]\n"
     ]
    },
    {
     "data": {
      "text/plain": [
       "<matplotlib.collections.PathCollection at 0x11631cc0>"
      ]
     },
     "execution_count": 24,
     "metadata": {},
     "output_type": "execute_result"
    }
   ],
   "source": [
    "#这一块有问题，几幅图没有叠加到一起\n",
    "\n",
    "kmeans = K_means(max_iter = 300, centroids = np.array([[2,1], [2,2], [2,3], [2,4], [2,5],[2,6]]))\n",
    "\n",
    "plt.figure(figsize = (16, 6))\n",
    "plotKMeans(x, y, kmeans.centroids, 121, 'Initial State')\n",
    "\n",
    "kmeans.fit(x)\n",
    "plotKMeans(x, y, kmeans.centroids, 122, 'Final State')\n",
    "\n",
    "# 预测新数据点的类别\n",
    "x_new = np.array([[0, 0], [10, 7]])\n",
    "y_pred = kmeans.predict(x_new)\n",
    "\n",
    "print(y_pred)\n",
    "\n",
    "plt.scatter(x_new[:,0], x_new[:,1], s = 100, c = 'black')"
   ]
  },
  {
   "cell_type": "code",
   "execution_count": null,
   "metadata": {
    "collapsed": true
   },
   "outputs": [],
   "source": []
  }
 ],
 "metadata": {
  "kernelspec": {
   "display_name": "Python 3",
   "language": "python",
   "name": "python3"
  },
  "language_info": {
   "codemirror_mode": {
    "name": "ipython",
    "version": 3
   },
   "file_extension": ".py",
   "mimetype": "text/x-python",
   "name": "python",
   "nbconvert_exporter": "python",
   "pygments_lexer": "ipython3",
   "version": "3.6.1"
  }
 },
 "nbformat": 4,
 "nbformat_minor": 2
}
